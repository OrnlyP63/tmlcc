{
 "cells": [
  {
   "cell_type": "code",
   "execution_count": 1,
   "id": "22ee2e3d-e03a-4e16-bcba-04e0608c6116",
   "metadata": {},
   "outputs": [],
   "source": [
    "import pandas as pd\n",
    "import numpy as np\n",
    "import seaborn as sns\n",
    "import matplotlib.pyplot as plt\n",
    "import sklearn.preprocessing as preprocessing\n",
    "from sklearn.model_selection import train_test_split\n",
    "from sklearn import metrics \n",
    "from sklearn import linear_model\n",
    "\n",
    "from sklearn.preprocessing import PolynomialFeatures\n",
    "from sklearn.linear_model import LinearRegression\n",
    "from sklearn.pipeline import Pipeline\n",
    "from sklearn import tree\n",
    "\n",
    "\n",
    "from sklearn.ensemble import GradientBoostingRegressor\n",
    "from sklearn.ensemble import RandomForestRegressor\n",
    "from sklearn.linear_model import LinearRegression\n",
    "from sklearn.ensemble import VotingRegressor"
   ]
  },
  {
   "cell_type": "markdown",
   "id": "d7c61357-ec61-4b9f-9ddd-ee377bcf9347",
   "metadata": {},
   "source": [
    "### Load And Prepare Data"
   ]
  },
  {
   "cell_type": "code",
   "execution_count": 2,
   "id": "43e36961-2797-402e-ac98-0eecb12ee575",
   "metadata": {},
   "outputs": [],
   "source": [
    "df_train = pd.read_csv('tmlcc-2021/train.csv')\n",
    "df_test = pd.read_csv('tmlcc-2021/test.csv')\n",
    "df_pre_train = pd.read_csv('tmlcc-2021/pretest.csv')"
   ]
  },
  {
   "cell_type": "code",
   "execution_count": 3,
   "id": "73046c58-e3a0-4be8-8cdd-b94af0998ad1",
   "metadata": {},
   "outputs": [],
   "source": [
    "df_train.replace([np.inf], np.nan, inplace=True)\n",
    "df_train = df_train.dropna()"
   ]
  },
  {
   "cell_type": "code",
   "execution_count": 4,
   "id": "fcb5b2b3-e8c6-4c85-9e74-1c129f132b96",
   "metadata": {},
   "outputs": [],
   "source": [
    "df_X = df_train.iloc[:, [1, 2, 3, 4, 5, 11, 12]]\n",
    "df_y = df_train.iloc[:, 13]\n",
    "\n",
    "df_test_X = df_test.iloc[:, [1, 2, 3, 4, 5, 11, 12]]"
   ]
  },
  {
   "cell_type": "code",
   "execution_count": 5,
   "id": "df995a9c-3ede-474b-96ed-133cde875b69",
   "metadata": {},
   "outputs": [
    {
     "data": {
      "text/plain": [
       "StandardScaler()"
      ]
     },
     "execution_count": 5,
     "metadata": {},
     "output_type": "execute_result"
    }
   ],
   "source": [
    "sd_scale = preprocessing.StandardScaler()\n",
    "sd_scale.fit(df_X)"
   ]
  },
  {
   "cell_type": "code",
   "execution_count": 6,
   "id": "3feb34e6-16a6-4c42-9113-676fe0585fa5",
   "metadata": {},
   "outputs": [],
   "source": [
    "X = sd_scale.transform(df_X)\n",
    "y = df_y"
   ]
  },
  {
   "cell_type": "code",
   "execution_count": 7,
   "id": "da0bd8df-2e3c-4b71-b164-25a31fce64f7",
   "metadata": {},
   "outputs": [],
   "source": [
    "X_train, X_test, y_train, y_test = train_test_split(X, y, test_size=0.30, random_state=42)"
   ]
  },
  {
   "cell_type": "markdown",
   "id": "0cc97030-f137-40e9-973f-a42558c61053",
   "metadata": {},
   "source": [
    "### Model"
   ]
  },
  {
   "cell_type": "code",
   "execution_count": 8,
   "id": "5291f910-5bfa-4d07-8d0c-b32df68f48f7",
   "metadata": {},
   "outputs": [
    {
     "name": "stdout",
     "output_type": "stream",
     "text": [
      "log Mean absolute Error 3.689640706541135\n"
     ]
    }
   ],
   "source": [
    "reg = linear_model.LinearRegression()\n",
    "reg.fit(X_train, y_train)\n",
    "y_pred = reg.predict(X_test)\n",
    "mse = np.log(metrics.mean_absolute_error(y_test, y_pred))\n",
    "print(\"log Mean absolute Error {}\".format(mse))"
   ]
  },
  {
   "cell_type": "code",
   "execution_count": 9,
   "id": "9a75d1e1-c5a8-4666-ad50-ff39c9b97bef",
   "metadata": {},
   "outputs": [
    {
     "name": "stdout",
     "output_type": "stream",
     "text": [
      "log Mean absolute Error 3.6896243194669527\n"
     ]
    }
   ],
   "source": [
    "reg = linear_model.BayesianRidge()\n",
    "reg.fit(X_train, y_train)\n",
    "y_pred = reg.predict(X_test)\n",
    "mse = np.log(metrics.mean_absolute_error(y_test, y_pred))\n",
    "print(\"log Mean absolute Error {}\".format(mse))"
   ]
  },
  {
   "cell_type": "code",
   "execution_count": 10,
   "id": "142ebb5a-a544-48d8-afa7-e7b2c6215c38",
   "metadata": {},
   "outputs": [
    {
     "name": "stdout",
     "output_type": "stream",
     "text": [
      "log Mean absolute Error 3.226376084119628\n"
     ]
    }
   ],
   "source": [
    "model = Pipeline([('poly', PolynomialFeatures(degree=4)),\n",
    "                  ('linear', LinearRegression(fit_intercept=False))])\n",
    "\n",
    "model = model.fit(X_train, y_train)\n",
    "y_pred = model.predict(X_test)\n",
    "mse = np.log(metrics.mean_absolute_error(y_test, y_pred))\n",
    "print(\"log Mean absolute Error {}\".format(mse))"
   ]
  },
  {
   "cell_type": "code",
   "execution_count": 11,
   "id": "b408616c-fe5e-42d4-872a-0f3e7ce21cde",
   "metadata": {},
   "outputs": [
    {
     "name": "stdout",
     "output_type": "stream",
     "text": [
      "log Mean absolute Error 3.68909242228741\n"
     ]
    }
   ],
   "source": [
    "reg = linear_model.LassoLars(alpha=.1, normalize=False)\n",
    "reg.fit(X_train, y_train)\n",
    "y_pred = reg.predict(X_test)\n",
    "mse = np.log(metrics.mean_absolute_error(y_test, y_pred))\n",
    "print(\"log Mean absolute Error {}\".format(mse))"
   ]
  },
  {
   "cell_type": "code",
   "execution_count": 12,
   "id": "3e8c975d-874b-4019-848c-262a807b6d28",
   "metadata": {},
   "outputs": [
    {
     "name": "stdout",
     "output_type": "stream",
     "text": [
      "log Mean absolute Error 3.6875459004561657\n"
     ]
    }
   ],
   "source": [
    "reg = linear_model.SGDRegressor(max_iter=1000, tol=1e-3)\n",
    "reg.fit(X_train, y_train)\n",
    "y_pred = reg.predict(X_test)\n",
    "mse = np.log(metrics.mean_absolute_error(y_test, y_pred))\n",
    "print(\"log Mean absolute Error {}\".format(mse))"
   ]
  },
  {
   "cell_type": "code",
   "execution_count": 13,
   "id": "dd3d353e-83e0-48c2-9aaa-ff2048e52780",
   "metadata": {},
   "outputs": [
    {
     "name": "stdout",
     "output_type": "stream",
     "text": [
      "log Mean absolute Error 3.4894515762370566\n"
     ]
    }
   ],
   "source": [
    "clf = tree.DecisionTreeRegressor()\n",
    "clf = clf.fit(X_train, y_train)\n",
    "y_pred = clf.predict(X_test)\n",
    "mse = np.log(metrics.mean_absolute_error(y_test, y_pred))\n",
    "print(\"log Mean absolute Error {}\".format(mse))"
   ]
  },
  {
   "cell_type": "code",
   "execution_count": 14,
   "id": "946ff232-bfe3-4b00-8298-c21280f2b36a",
   "metadata": {},
   "outputs": [
    {
     "name": "stdout",
     "output_type": "stream",
     "text": [
      "log Mean absolute Error 3.1635835306679208\n",
      "23.6552134065513\n"
     ]
    }
   ],
   "source": [
    "# Loading some example data\n",
    "X, y = X_train, y_train\n",
    "\n",
    "# Training classifiers\n",
    "reg1 = GradientBoostingRegressor(random_state=1)\n",
    "reg2 = RandomForestRegressor(random_state=1)\n",
    "reg3 = model = Pipeline([('poly', PolynomialFeatures(degree=4)),\n",
    "                  ('linear', LinearRegression(fit_intercept=False))])\n",
    "ereg = VotingRegressor(estimators=[('gb', reg1), ('rf', reg2), ('lr', reg3)])\n",
    "ereg = ereg.fit(X, y)\n",
    "\n",
    "y_pred = ereg.predict(X_test)\n",
    "mse = np.log(metrics.mean_absolute_error(y_test, y_pred))\n",
    "print(\"log Mean absolute Error {}\".format(mse))\n",
    "print(metrics.mean_absolute_error(y_test, y_pred))"
   ]
  },
  {
   "cell_type": "markdown",
   "id": "0b050bcd-d954-4535-8ee8-9f4c3fa4eae2",
   "metadata": {},
   "source": [
    "### Test"
   ]
  },
  {
   "cell_type": "code",
   "execution_count": 15,
   "id": "32c7a2de-a36a-4e86-8e9a-5ad3c20d9d82",
   "metadata": {},
   "outputs": [],
   "source": [
    "from datetime import datetime"
   ]
  },
  {
   "cell_type": "code",
   "execution_count": 16,
   "id": "aa62c0d8-1128-4a4d-a78a-31a46e0d4903",
   "metadata": {},
   "outputs": [],
   "source": [
    "now = datetime.now()\n",
    "timestamp = datetime.timestamp(now)"
   ]
  },
  {
   "cell_type": "code",
   "execution_count": 17,
   "id": "fb1d65e7-23dd-4e80-992e-9579822e2131",
   "metadata": {},
   "outputs": [],
   "source": [
    "X_test = sd_scale.transform(df_test_X)\n",
    "pred = ereg.predict(X_test)\n",
    "ID = np.arange(68614, 85614)\n",
    "pd.DataFrame({'id':ID, 'CO2_working_capacity [mL/g]': pred}).set_index('id').to_csv(f'wonderland{timestamp}.csv')"
   ]
  },
  {
   "cell_type": "code",
   "execution_count": 18,
   "id": "f2909a55-596e-4af2-8d7e-abf34252ec4e",
   "metadata": {},
   "outputs": [
    {
     "data": {
      "text/plain": [
       "(17000,)"
      ]
     },
     "execution_count": 18,
     "metadata": {},
     "output_type": "execute_result"
    }
   ],
   "source": [
    "pred.shape"
   ]
  },
  {
   "cell_type": "code",
   "execution_count": 19,
   "id": "451b2a2e-dd63-4759-9460-10f74adeaa52",
   "metadata": {},
   "outputs": [
    {
     "data": {
      "text/plain": [
       "(17000,)"
      ]
     },
     "execution_count": 19,
     "metadata": {},
     "output_type": "execute_result"
    }
   ],
   "source": [
    "ID.shape"
   ]
  },
  {
   "cell_type": "code",
   "execution_count": 20,
   "id": "4794b06d-fa26-4cfb-8138-ec8d3d626283",
   "metadata": {},
   "outputs": [
    {
     "data": {
      "text/plain": [
       "3.5263605246161616"
      ]
     },
     "execution_count": 20,
     "metadata": {},
     "output_type": "execute_result"
    }
   ],
   "source": [
    "np.log(34)"
   ]
  },
  {
   "cell_type": "code",
   "execution_count": null,
   "id": "f3c0a0cc-deea-4e2c-8d1d-aefae92b5521",
   "metadata": {},
   "outputs": [],
   "source": []
  }
 ],
 "metadata": {
  "kernelspec": {
   "display_name": "Python 3",
   "language": "python",
   "name": "python3"
  },
  "language_info": {
   "codemirror_mode": {
    "name": "ipython",
    "version": 3
   },
   "file_extension": ".py",
   "mimetype": "text/x-python",
   "name": "python",
   "nbconvert_exporter": "python",
   "pygments_lexer": "ipython3",
   "version": "3.8.8"
  }
 },
 "nbformat": 4,
 "nbformat_minor": 5
}
