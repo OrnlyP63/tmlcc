{
 "cells": [
  {
   "cell_type": "code",
   "execution_count": null,
   "id": "90ed2aa4-7976-4300-8855-d271a0950b46",
   "metadata": {},
   "outputs": [],
   "source": [
    "import pandas as pd\n",
    "import numpy as np\n",
    "from sklearn.compose import ColumnTransformer\n",
    "from sklearn.pipeline import Pipeline\n",
    "from sklearn.impute import SimpleImputer\n",
    "from sklearn.preprocessing import OneHotEncoder\n",
    "import seaborn as sns\n",
    "from sklearn.model_selection import train_test_split\n",
    "from sklearn.linear_model import LinearRegression\n",
    "from sklearn.model_selection import cross_val_predict"
   ]
  },
  {
   "cell_type": "code",
   "execution_count": null,
   "id": "09b05c6c-a324-4bdc-8c73-81bafeb85bc5",
   "metadata": {},
   "outputs": [],
   "source": [
    "df_train = pd.read_csv('tmlcc-2021/train.csv')\n",
    "df_test = pd.read_csv('tmlcc-2021/test.csv')\n",
    "df_pre_train = pd.read_csv('tmlcc-2021/pretest.csv')"
   ]
  },
  {
   "cell_type": "code",
   "execution_count": null,
   "id": "ec4344a0-bc4f-4412-ac5e-721c90b798b0",
   "metadata": {},
   "outputs": [],
   "source": [
    "df_train.head()"
   ]
  },
  {
   "cell_type": "code",
   "execution_count": null,
   "id": "4acd9355-4e1a-49e0-8925-ae86dced2f5d",
   "metadata": {},
   "outputs": [],
   "source": [
    "df_train.info()"
   ]
  },
  {
   "cell_type": "code",
   "execution_count": null,
   "id": "70ea023f-9a32-419d-9da0-b624e7a5569f",
   "metadata": {},
   "outputs": [],
   "source": [
    "df_train = df_train.dropna()"
   ]
  },
  {
   "cell_type": "code",
   "execution_count": null,
   "id": "9f98708a-5e79-4a9b-8ff8-67ff7d07f2bd",
   "metadata": {},
   "outputs": [],
   "source": [
    "df_train = df_train.loc[(df_train['void_volume [cm^3/g]'] > 0) & (df_train['void_fraction'] > 0) & (df_train['surface_area [m^2/g]'] > 0) & (df_train['volume [A^3]'] > 0)]"
   ]
  },
  {
   "cell_type": "code",
   "execution_count": null,
   "id": "ba99aeac-fc7c-4969-ab9b-9cafe50657a9",
   "metadata": {},
   "outputs": [],
   "source": [
    "df_train, y = df_train.loc[:, 'volume [A^3]':'heat_adsorption_CO2_P0.15bar_T298K [kcal/mol]'], df_train.loc[:,'CO2_working_capacity [mL/g]']"
   ]
  },
  {
   "cell_type": "code",
   "execution_count": null,
   "id": "b09bed53-008d-4831-96a5-c57da7d6f168",
   "metadata": {},
   "outputs": [],
   "source": [
    "dummies_meatl = pd.get_dummies(df_train['metal_linker'], prefix='met')\n",
    "dummies_topology = pd.get_dummies(df_train['metal_linker'], prefix='topo')\n",
    "df_onehot = pd.concat([dummies_meatl, dummies_topology], axis = 1)"
   ]
  },
  {
   "cell_type": "code",
   "execution_count": null,
   "id": "1e16cec7-27db-4532-bf4b-7e1bdabde1ef",
   "metadata": {},
   "outputs": [],
   "source": [
    "df_train = df_train.drop(['functional_groups', 'metal_linker', 'organic_linker1', 'organic_linker2', 'topology', 'heat_adsorption_CO2_P0.15bar_T298K [kcal/mol]'], axis=1)"
   ]
  },
  {
   "cell_type": "code",
   "execution_count": null,
   "id": "4aaeac12-7102-49cc-9e29-ce67ab947a44",
   "metadata": {},
   "outputs": [],
   "source": [
    "df_train.head()"
   ]
  },
  {
   "cell_type": "code",
   "execution_count": null,
   "id": "32468711-b3e7-48c6-9b1c-6ffc63eaddca",
   "metadata": {},
   "outputs": [],
   "source": [
    "df_train"
   ]
  },
  {
   "cell_type": "code",
   "execution_count": null,
   "id": "fc8472f3-7ea5-4a91-be6f-ca864ce84f51",
   "metadata": {},
   "outputs": [],
   "source": [
    "normalized_df = (df_train-df_train.mean()) / df_train.std()"
   ]
  },
  {
   "cell_type": "code",
   "execution_count": null,
   "id": "d0500d9e-eae8-4e83-abc7-988448a2d92d",
   "metadata": {},
   "outputs": [],
   "source": [
    "normalized_df"
   ]
  },
  {
   "cell_type": "code",
   "execution_count": null,
   "id": "346131c1-0270-4040-9eb0-6ebf54f753f1",
   "metadata": {},
   "outputs": [],
   "source": [
    "df_train = pd.concat([normalized_df, df_onehot], axis=1)"
   ]
  },
  {
   "cell_type": "code",
   "execution_count": null,
   "id": "ddf8e379-d219-4a19-a568-053418af5f16",
   "metadata": {},
   "outputs": [],
   "source": [
    "X_train, X_test, y_train, y_test = train_test_split(df_train, y, test_size=0.33, random_state=42)"
   ]
  },
  {
   "cell_type": "code",
   "execution_count": null,
   "id": "24b96f57-fc83-4f92-be43-e1e8daa8e7e2",
   "metadata": {},
   "outputs": [],
   "source": [
    "reg = LinearRegression()"
   ]
  },
  {
   "cell_type": "code",
   "execution_count": null,
   "id": "033b4578-572d-4eda-b13e-2a8708dc6a40",
   "metadata": {},
   "outputs": [],
   "source": [
    "reg.fit(X_train, y_train)"
   ]
  },
  {
   "cell_type": "code",
   "execution_count": null,
   "id": "a2fc116c-91b6-4cc6-b017-b59fb47ea834",
   "metadata": {},
   "outputs": [],
   "source": [
    "y_pred = reg.predict(X_test)"
   ]
  },
  {
   "cell_type": "code",
   "execution_count": null,
   "id": "6fc262c0-53b6-4420-b57a-84f7b334b68d",
   "metadata": {},
   "outputs": [],
   "source": [
    "from sklearn.metrics import mean_absolute_error"
   ]
  },
  {
   "cell_type": "code",
   "execution_count": null,
   "id": "27cb3149-8f0a-4f0f-87c0-eaf12b7e30f3",
   "metadata": {},
   "outputs": [],
   "source": [
    "np.log(mean_absolute_error(y_test, y_pred))"
   ]
  },
  {
   "cell_type": "code",
   "execution_count": null,
   "id": "3bf12c44-56f1-40d1-899d-e3ad330842af",
   "metadata": {},
   "outputs": [],
   "source": [
    "df_test"
   ]
  },
  {
   "cell_type": "markdown",
   "id": "a7d9f8c5-0da2-4eba-99a6-06b537964e60",
   "metadata": {},
   "source": [
    "### Test"
   ]
  },
  {
   "cell_type": "code",
   "execution_count": null,
   "id": "be444891-c612-4e8a-ab29-7fcb09d66ae6",
   "metadata": {},
   "outputs": [],
   "source": [
    "df_test = df_test.loc[:, 'volume [A^3]':'heat_adsorption_CO2_P0.15bar_T298K [kcal/mol]']\n",
    "\n",
    "dummies_meatl = pd.get_dummies(df_test['metal_linker'], prefix='met')\n",
    "dummies_topology = pd.get_dummies(df_test['metal_linker'], prefix='topo')\n",
    "df_onehot = pd.concat([dummies_meatl, dummies_topology], axis = 1)\n",
    "\n",
    "df_test = df_test.drop(['functional_groups', 'metal_linker', 'organic_linker1', 'organic_linker2', 'topology', 'heat_adsorption_CO2_P0.15bar_T298K [kcal/mol]'], axis=1)"
   ]
  },
  {
   "cell_type": "code",
   "execution_count": null,
   "id": "9b63cf1f-cc97-4ada-bc6d-c90d2e531711",
   "metadata": {},
   "outputs": [],
   "source": [
    "normalized_df = (df_test-df_test.mean()) / df_test.std()"
   ]
  },
  {
   "cell_type": "code",
   "execution_count": null,
   "id": "b23f3b59-583e-47bd-bc29-a41b90505d45",
   "metadata": {},
   "outputs": [],
   "source": [
    "df_test = pd.concat([normalized_df, df_onehot], axis=1)"
   ]
  },
  {
   "cell_type": "code",
   "execution_count": null,
   "id": "6706cd4d-294f-4fb0-820e-b3dfc8ff89e2",
   "metadata": {},
   "outputs": [],
   "source": [
    "pred = reg.predict(df_test)"
   ]
  },
  {
   "cell_type": "code",
   "execution_count": null,
   "id": "1c8149a3-9324-4fb5-846f-8697c51f8137",
   "metadata": {},
   "outputs": [],
   "source": [
    "ID = np.arange(68614, 85614)"
   ]
  },
  {
   "cell_type": "code",
   "execution_count": null,
   "id": "dea0b82f-66f0-4d7a-9aa4-288ec6f3173e",
   "metadata": {},
   "outputs": [],
   "source": [
    "pd.DataFrame({'id':ID, 'CO2_working_capacity [mL/g]': pred}).set_index('id').to_csv('wonderland01.csv')"
   ]
  },
  {
   "cell_type": "code",
   "execution_count": null,
   "id": "9956e803-5f5c-4183-a51c-0aa7d86a81b3",
   "metadata": {},
   "outputs": [],
   "source": []
  }
 ],
 "metadata": {
  "kernelspec": {
   "display_name": "Python (tf)",
   "language": "python",
   "name": "tf"
  },
  "language_info": {
   "codemirror_mode": {
    "name": "ipython",
    "version": 3
   },
   "file_extension": ".py",
   "mimetype": "text/x-python",
   "name": "python",
   "nbconvert_exporter": "python",
   "pygments_lexer": "ipython3",
   "version": "3.7.9"
  }
 },
 "nbformat": 4,
 "nbformat_minor": 5
}
