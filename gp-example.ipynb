{
 "cells": [
  {
   "cell_type": "code",
   "execution_count": 1,
   "id": "fbf1b187-ea91-4009-935a-2b5d282d6a35",
   "metadata": {},
   "outputs": [],
   "source": [
    "import numpy as np\n",
    "import pandas as pd\n",
    "from gplearn.genetic import SymbolicRegressor\n",
    "from sklearn.model_selection import train_test_split\n",
    "from sympy import *"
   ]
  },
  {
   "cell_type": "code",
   "execution_count": 2,
   "id": "a67610d3-f3e9-4aae-bdc9-7b6bef5cc9cd",
   "metadata": {},
   "outputs": [],
   "source": [
    "nsample = 400\n",
    "sig = 0.2\n",
    "x = np.linspace(-50, 50, nsample)\n",
    "X = np.column_stack((x/5, 10*np.sin(x), (x-5)**3, np.ones(nsample)))\n",
    "beta = [0.01, 1, 0.001, 5.]\n",
    "y_true = np.dot(X, beta)\n",
    "y = y_true + sig * np.random.normal(size=nsample)\n",
    "df = pd.DataFrame()\n",
    "df['x']=x\n",
    "df['y']=y"
   ]
  },
  {
   "cell_type": "code",
   "execution_count": 3,
   "id": "473461c7-adca-450e-bf81-a99928dc3905",
   "metadata": {},
   "outputs": [],
   "source": [
    "X = df[['x']]\n",
    "y = df['y']\n",
    "y_true = y\n",
    "X_train, X_test, y_train, y_test = train_test_split(X, y, test_size=0.30, random_state=42)"
   ]
  },
  {
   "cell_type": "code",
   "execution_count": 4,
   "id": "fc09866d-e4ea-4613-9305-3ccf71770868",
   "metadata": {},
   "outputs": [],
   "source": [
    "# First Test\n",
    "function_set = ['add', 'sub', 'mul', 'div','cos','sin','neg','inv']\n",
    "est_gp = SymbolicRegressor(population_size=5000,function_set=function_set,\n",
    "                           generations=40, stopping_criteria=0.01,\n",
    "                           p_crossover=0.7, p_subtree_mutation=0.1,\n",
    "                           p_hoist_mutation=0.05, p_point_mutation=0.1,\n",
    "                           max_samples=0.9, verbose=1,\n",
    "                           parsimony_coefficient=0.01, random_state=0,\n",
    "                          feature_names=X_train.columns)"
   ]
  },
  {
   "cell_type": "code",
   "execution_count": 5,
   "id": "eef71fd5-ae15-4603-96bc-55f835f20fc7",
   "metadata": {},
   "outputs": [],
   "source": [
    "converter = {\n",
    "    'sub': lambda x, y : x - y,\n",
    "    'div': lambda x, y : x/y,\n",
    "    'mul': lambda x, y : x*y,\n",
    "    'add': lambda x, y : x + y,\n",
    "    'neg': lambda x    : -x,\n",
    "    'pow': lambda x, y : x**y,\n",
    "    'sin': lambda x    : sin(x),\n",
    "    'cos': lambda x    : cos(x),\n",
    "    'inv': lambda x: 1/x,\n",
    "    'sqrt': lambda x: x**0.5,\n",
    "    'pow3': lambda x: x**3\n",
    "}"
   ]
  },
  {
   "cell_type": "code",
   "execution_count": 6,
   "id": "e89c3d54-e177-49d9-a95c-66623bbfbe33",
   "metadata": {},
   "outputs": [
    {
     "name": "stdout",
     "output_type": "stream",
     "text": [
      "    |   Population Average    |             Best Individual              |\n",
      "---- ------------------------- ------------------------------------------ ----------\n",
      " Gen   Length          Fitness   Length          Fitness      OOB Fitness  Time Left\n",
      "   0    15.94           3204.3       26          16.2791          24.3567      4.07m\n",
      "   1    11.71          514.702       11          15.9268          26.2175      2.97m\n",
      "   2     9.02          78.0172        5          15.6357           34.183      2.62m\n",
      "   3     8.75          64.8027        8          15.7165          27.7958      2.59m\n",
      "   4     8.60          49.3552        9          15.5209          30.6865      2.47m\n",
      "   5     9.19          58.6209       10          15.2393          33.5307      3.65m\n",
      "   6     9.41          48.4439       23           15.644          28.6679      2.79m\n",
      "   7     9.67          69.3363       18          15.5823          28.5027      2.32m\n",
      "   8     9.19           48.812        8          15.4549          30.1227      2.36m\n",
      "   9     8.65          61.7533       13          15.4515          28.9332      2.79m\n",
      "  10     8.19          36.6163        3          15.5895            30.71      2.76m\n",
      "  11     7.82          36.9079       18          15.3377          31.2312      2.21m\n",
      "  12     8.43          30.7124        3          15.4937          31.0949      2.06m\n",
      "  13     8.82          34.3475       13          15.3237          25.5489      1.99m\n",
      "  14     9.47          42.3814       16          15.4746          25.9941      1.95m\n",
      "  15     9.36          34.4361        8          15.2576          28.7449      2.36m\n",
      "  16    10.46           40.144        7          15.3052          32.9378      1.68m\n",
      "  17    12.16          54.6541        7          15.0432          33.8279      2.09m\n",
      "  18    14.12          28.5941       27          15.0105          22.9617      1.95m\n",
      "  19    18.25          30.2731       23          14.2987           28.279      1.99m\n",
      "  20    22.59          38.1053       37          13.1757          17.8379      2.06m\n",
      "  21    28.86          25.9468       71          12.5328          22.4151      1.81m\n",
      "  22    36.87          28.1265       55          12.0954          13.3728      1.90m\n",
      "  23    46.56          35.6422       55          11.3716          19.8866      1.85m\n",
      "  24    56.91          29.2888       67          10.9445          20.2234      2.53m\n",
      "  25    63.27          25.3927      104          10.5997          19.7164      2.33m\n",
      "  26    69.24          1451.09       75           10.356          23.2914      1.93m\n",
      "  27    72.66          32.4995       71          10.6244          16.4002      1.74m\n",
      "  28    73.14           27.949       71           10.181          18.7542      2.76m\n",
      "  29    72.07          38.2558       94          9.83646          17.1694      2.72m\n",
      "  30    73.16          284.829      101          8.84602          16.9703      2.56m\n",
      "  31    76.52          32.5863      109           8.7155          18.3427      1.88m\n",
      "  32    78.41          40.7609      138          7.63514           9.8715      1.10m\n",
      "  33    81.32          41.2689      146          7.54941          6.55636      1.26m\n",
      "  34    91.68          30.4939      163           7.0805          14.7957      1.04m\n",
      "  35   106.82          30.5003      125          6.75569          15.4641      1.08m\n",
      "  36   127.48          28.5939      147          6.43225          16.6497      1.23m\n",
      "  37   136.62          29.5777      129          5.83678          22.1283     30.49s\n",
      "  38   131.35          25.6756      118          6.22828          20.8027     13.14s\n",
      "  39   130.94          28.5691      113          6.38482           17.368      0.00s\n",
      "R2: 0.8619912145605396\n"
     ]
    },
    {
     "data": {
      "text/latex": [
       "$\\displaystyle 1.14942528735632 x - 9.06060606060606 \\sin{\\left(0.112 x \\right)} + 6.06060606060606 \\sin{\\left(0.184 x \\right)} - \\sin{\\left(0.202 x \\right)} + 9.62141378290447 \\sin{\\left(x \\right)} - \\sin{\\left(1.12107623318386 x \\right)} + 6.06060606060606 \\sin{\\left(\\frac{0.0509778943750324 x}{\\sin{\\left(0.112 x \\right)}} \\right)} - 6.06060606060606 \\sin{\\left(\\sin{\\left(0.112 x \\right)} \\right)} + 6.06060606060606 \\cos{\\left(0.112 x \\right)} - 3.03668292396704$"
      ],
      "text/plain": [
       "1.14942528735632*x - 9.06060606060606*sin(0.112*x) + 6.06060606060606*sin(0.184*x) - sin(0.202*x) + 9.62141378290447*sin(x) - sin(1.12107623318386*x) + 6.06060606060606*sin(0.0509778943750324*x/sin(0.112*x)) - 6.06060606060606*sin(sin(0.112*x)) + 6.06060606060606*cos(0.112*x) - 3.03668292396704"
      ]
     },
     "execution_count": 6,
     "metadata": {},
     "output_type": "execute_result"
    }
   ],
   "source": [
    "est_gp.fit(X_train, y_train)\n",
    "print('R2:',est_gp.score(X_test,y_test))\n",
    "next_e = sympify((est_gp._program), locals=converter)\n",
    "next_e"
   ]
  },
  {
   "cell_type": "code",
   "execution_count": 7,
   "id": "ee69b684-b59e-4773-b416-e3693295f52a",
   "metadata": {},
   "outputs": [],
   "source": [
    "y_gp = est_gp.predict(X_test)\n",
    "score_gp = est_gp.score(X_test, y_test)"
   ]
  },
  {
   "cell_type": "code",
   "execution_count": 8,
   "id": "3525759a-4fe2-4baf-b127-6a6c5cbebaa5",
   "metadata": {},
   "outputs": [],
   "source": [
    "from gplearn.functions import make_function"
   ]
  },
  {
   "cell_type": "code",
   "execution_count": 9,
   "id": "67a1c4b3-a138-437f-a7cc-f415f306bbdc",
   "metadata": {},
   "outputs": [
    {
     "name": "stdout",
     "output_type": "stream",
     "text": [
      "    |   Population Average    |             Best Individual              |\n",
      "---- ------------------------- ------------------------------------------ ----------\n",
      " Gen   Length          Fitness   Length          Fitness      OOB Fitness  Time Left\n",
      "   0    14.13       2.8592e+61       22           16.284          27.9367      5.56m\n",
      "   1    10.69      2.35374e+42       20          13.8693          16.2199      5.13m\n",
      "   2     9.06      8.16763e+13       19          13.5223          21.5509      3.45m\n",
      "   3     8.19      6.89542e+55       20          13.6531          18.1653      2.80m\n",
      "   4     9.50      3.44649e+21       22          13.2693          21.0334      2.89m\n",
      "   5    14.80      1.10938e+46       25          13.1966          13.4552      3.16m\n",
      "   6    20.30      1.09321e+46       19          11.3174          12.2777      3.67m\n",
      "   7    22.35      5.19681e+45       25           10.991           10.632      3.38m\n",
      "   8    23.77     4.92458e+132       17           10.576          12.7059      3.37m\n",
      "   9    25.46      4.86854e+46       29          8.62948          9.94618      4.38m\n",
      "  10    25.75      3.46037e+16       20          6.54073          7.65164      3.40m\n",
      "  11    26.77      1.14385e+59       20          6.55278          7.54317      4.36m\n",
      "  12    27.96      8.77383e+38       33          5.52207          5.81098      3.45m\n",
      "  13    30.18      3.30747e+20       36          5.37245          5.86992      5.00m\n",
      "  14    28.31      7.84041e+38       45          4.98811          5.96207      3.43m\n",
      "  15    27.12       9.2183e+14       45          4.93117          6.47447      4.32m\n",
      "  16    33.65      5.82667e+28       30          4.64951          5.61022      4.66m\n",
      "  17    34.09      5.62415e+12       40          2.90126           2.8762      3.25m\n",
      "  18    34.21       2.6698e+18       40          2.85598          3.28376      2.75m\n",
      "  19    37.99      1.24674e+14       40          2.85575          3.28585      3.20m\n",
      "  20    39.66      5.60056e+23       40          2.71304          2.59999      3.32m\n",
      "  21    42.27      3.54936e+14       38          2.27282          2.97208      3.43m\n",
      "  22    44.31       5.0192e+40       38            2.301          2.71846      3.16m\n",
      "  23    43.03      5.60718e+13       49          2.27786          2.79212      3.00m\n",
      "  24    42.01      3.58054e+35       50           2.2678          2.13531      2.76m\n",
      "  25    40.83       7.0154e+14       54          2.10378          2.93698      2.52m\n",
      "  26    40.70      1.88621e+62       39          1.96912          2.97086      2.31m\n",
      "  27    40.72      1.68846e+14       39          2.00382          2.65862      2.15m\n",
      "  28    39.96      1.25823e+19       47          1.90528          2.50863      2.37m\n",
      "  29    38.92      5.57754e+23       49          1.89815           2.4743      2.09m\n",
      "  30    38.83      6.40582e+28       55           1.7657          2.33353      2.18m\n",
      "  31    40.32      1.68154e+14       47          1.68308           1.8223      2.29m\n",
      "  32    41.71      6.79893e+13       53          1.45536          1.45017      2.24m\n",
      "  33    42.98      1.64238e+39       53          1.30606          1.29133      1.63m\n",
      "  34    45.16      6.08751e+28       57          1.27813          1.32395      1.47m\n",
      "  35    47.62      9.81677e+43       59         0.972045          1.03897      1.27m\n",
      "  36    50.37      6.91927e+13       61         0.978722         0.961617      1.18m\n",
      "  37    52.78      5.73095e+18       58         0.961787          1.05865      1.01m\n",
      "  38    55.05       2.6846e+16       56          0.90467         0.852181     57.25s\n",
      "  39    56.66       1.7586e+18       58         0.814326         0.889542     54.05s\n",
      "  40    58.50      8.04287e+38       76           0.6278         0.540737     38.13s\n",
      "  41    58.69      1.10345e+38       75         0.734685         0.745443     32.98s\n",
      "  42    58.65      2.56243e+40       58         0.568801         0.513152     20.02s\n",
      "  43    58.52      1.17275e+14       77         0.399357         0.393586      9.34s\n",
      "  44    59.09      9.36071e+14       95          0.39511         0.441326      0.00s\n",
      "R2: 0.9999265714900977\n"
     ]
    },
    {
     "data": {
      "text/latex": [
       "$\\displaystyle 0.0169991811784987 x + 0.0169991811784987 \\left(0.390339208439988 x - 0.390339208439988 \\sin{\\left(0.952 - \\frac{1}{\\cos{\\left(\\frac{x \\sin{\\left(x \\right)}}{\\left(0.390339208439988 x - 1.7865856305669\\right)^{3}} \\right)} - 3.65000787401575} \\right)} - 1.53676853716531\\right)^{3} + 9.58901018958925 \\sin{\\left(x \\right)} + \\cos{\\left(\\frac{0.126}{x} \\right)} + \\cos{\\left(\\frac{0.255}{x} \\right)} + 2.71267419544457$"
      ],
      "text/plain": [
       "0.0169991811784987*x + 0.0169991811784987*(0.390339208439988*x - 0.390339208439988*sin(0.952 - 1/(cos(x*sin(x)/(0.390339208439988*x - 1.7865856305669)**3) - 3.65000787401575)) - 1.53676853716531)**3 + 9.58901018958925*sin(x) + cos(0.126/x) + cos(0.255/x) + 2.71267419544457"
      ]
     },
     "execution_count": 9,
     "metadata": {},
     "output_type": "execute_result"
    }
   ],
   "source": [
    "def pow_3(x1):\n",
    "    f = x1**3\n",
    "    return f\n",
    "pow_3 = make_function(function=pow_3,name='pow3',arity=1)\n",
    "# add the new function to the function_set\n",
    "function_set = ['add', 'sub', 'mul', 'div','cos','sin','neg','inv',pow_3]\n",
    "est_gp = SymbolicRegressor(population_size=5000,function_set=function_set,\n",
    "                           generations=45, stopping_criteria=0.01,\n",
    "                           p_crossover=0.7, p_subtree_mutation=0.1,\n",
    "                           p_hoist_mutation=0.05, p_point_mutation=0.1,\n",
    "                           max_samples=0.9, verbose=1,\n",
    "                           parsimony_coefficient=0.01, random_state=0,\n",
    "                          feature_names=X_train.columns)\n",
    "est_gp.fit(X_train, y_train)\n",
    "print('R2:',est_gp.score(X_test,y_test))\n",
    "next_e = sympify((est_gp._program), locals=converter)\n",
    "next_e"
   ]
  },
  {
   "cell_type": "code",
   "execution_count": null,
   "id": "dcfa60a8-b641-4035-a59b-45c7f3244740",
   "metadata": {},
   "outputs": [],
   "source": []
  }
 ],
 "metadata": {
  "kernelspec": {
   "display_name": "Python (AIML)",
   "language": "python",
   "name": "aiml"
  },
  "language_info": {
   "codemirror_mode": {
    "name": "ipython",
    "version": 3
   },
   "file_extension": ".py",
   "mimetype": "text/x-python",
   "name": "python",
   "nbconvert_exporter": "python",
   "pygments_lexer": "ipython3",
   "version": "3.7.9"
  }
 },
 "nbformat": 4,
 "nbformat_minor": 5
}
