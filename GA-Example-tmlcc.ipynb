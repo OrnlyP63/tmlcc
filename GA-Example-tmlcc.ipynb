{
 "cells": [
  {
   "cell_type": "code",
   "execution_count": 1,
   "metadata": {},
   "outputs": [],
   "source": [
    "import pandas as pd\n",
    "import numpy as np\n",
    "from sklearn import metrics \n",
    "import sklearn.preprocessing as preprocessing"
   ]
  },
  {
   "cell_type": "code",
   "execution_count": 2,
   "metadata": {},
   "outputs": [],
   "source": [
    "df_train = pd.read_csv('tmlcc-2021/train.csv')\n",
    "df_test = pd.read_csv('tmlcc-2021/test.csv')\n",
    "df_pre_train = pd.read_csv('tmlcc-2021/pretest.csv')"
   ]
  },
  {
   "cell_type": "code",
   "execution_count": 3,
   "metadata": {},
   "outputs": [],
   "source": [
    "df = df_train.iloc[:, [1, 2, 3, 4, 5, 11, 12, 13]].sample(n=3000)"
   ]
  },
  {
   "cell_type": "code",
   "execution_count": 4,
   "metadata": {},
   "outputs": [
    {
     "data": {
      "text/plain": [
       "volume [A^3]                                       0\n",
       "weight [u]                                         0\n",
       "surface_area [m^2/g]                               0\n",
       "void_fraction                                      0\n",
       "void_volume [cm^3/g]                               0\n",
       "CO2/N2_selectivity                                 0\n",
       "heat_adsorption_CO2_P0.15bar_T298K [kcal/mol]    110\n",
       "CO2_working_capacity [mL/g]                        0\n",
       "dtype: int64"
      ]
     },
     "execution_count": 4,
     "metadata": {},
     "output_type": "execute_result"
    }
   ],
   "source": [
    "df.isnull().sum(axis=0)"
   ]
  },
  {
   "cell_type": "code",
   "execution_count": 5,
   "metadata": {},
   "outputs": [],
   "source": [
    "Max_heat = df['heat_adsorption_CO2_P0.15bar_T298K [kcal/mol]'].replace([np.inf], 0).max()"
   ]
  },
  {
   "cell_type": "code",
   "execution_count": 6,
   "metadata": {},
   "outputs": [],
   "source": [
    "df['heat_adsorption_CO2_P0.15bar_T298K [kcal/mol]'].replace([np.inf], Max_heat, inplace=True)"
   ]
  },
  {
   "cell_type": "code",
   "execution_count": 7,
   "metadata": {},
   "outputs": [],
   "source": [
    "df['heat_adsorption_CO2_P0.15bar_T298K [kcal/mol]'].fillna(df[\"heat_adsorption_CO2_P0.15bar_T298K [kcal/mol]\"].median(), inplace=True)"
   ]
  },
  {
   "cell_type": "code",
   "execution_count": 8,
   "metadata": {},
   "outputs": [],
   "source": [
    "target = df.pop(\"CO2_working_capacity [mL/g]\")\n",
    "data = df   "
   ]
  },
  {
   "cell_type": "code",
   "execution_count": 9,
   "metadata": {},
   "outputs": [],
   "source": [
    "# scale = preprocessing.MinMaxScaler()\n",
    "# scale.fit(data)\n",
    "# data = scale.transform(data)\n",
    "# data = pd.DataFrame(data, columns=['a','b','c','d', 'e','f','g'])"
   ]
  },
  {
   "cell_type": "code",
   "execution_count": 10,
   "metadata": {},
   "outputs": [
    {
     "data": {
      "text/html": [
       "<div>\n",
       "<style scoped>\n",
       "    .dataframe tbody tr th:only-of-type {\n",
       "        vertical-align: middle;\n",
       "    }\n",
       "\n",
       "    .dataframe tbody tr th {\n",
       "        vertical-align: top;\n",
       "    }\n",
       "\n",
       "    .dataframe thead th {\n",
       "        text-align: right;\n",
       "    }\n",
       "</style>\n",
       "<table border=\"1\" class=\"dataframe\">\n",
       "  <thead>\n",
       "    <tr style=\"text-align: right;\">\n",
       "      <th></th>\n",
       "      <th>a</th>\n",
       "      <th>b</th>\n",
       "      <th>c</th>\n",
       "      <th>d</th>\n",
       "      <th>e</th>\n",
       "      <th>f</th>\n",
       "      <th>g</th>\n",
       "    </tr>\n",
       "  </thead>\n",
       "  <tbody>\n",
       "    <tr>\n",
       "      <th>55947</th>\n",
       "      <td>1770.283712</td>\n",
       "      <td>1748.36860</td>\n",
       "      <td>0.00</td>\n",
       "      <td>0.11372</td>\n",
       "      <td>0.0693</td>\n",
       "      <td>37.059345</td>\n",
       "      <td>6.889322</td>\n",
       "    </tr>\n",
       "    <tr>\n",
       "      <th>64126</th>\n",
       "      <td>14405.415234</td>\n",
       "      <td>5512.48912</td>\n",
       "      <td>2828.07</td>\n",
       "      <td>0.50969</td>\n",
       "      <td>0.8021</td>\n",
       "      <td>5.533757</td>\n",
       "      <td>3.432523</td>\n",
       "    </tr>\n",
       "    <tr>\n",
       "      <th>54759</th>\n",
       "      <td>1099.849047</td>\n",
       "      <td>741.37836</td>\n",
       "      <td>0.00</td>\n",
       "      <td>0.09711</td>\n",
       "      <td>0.0868</td>\n",
       "      <td>35.539486</td>\n",
       "      <td>6.352950</td>\n",
       "    </tr>\n",
       "    <tr>\n",
       "      <th>28624</th>\n",
       "      <td>1118.021129</td>\n",
       "      <td>740.27125</td>\n",
       "      <td>1037.19</td>\n",
       "      <td>0.17276</td>\n",
       "      <td>0.1571</td>\n",
       "      <td>28.046036</td>\n",
       "      <td>6.182082</td>\n",
       "    </tr>\n",
       "    <tr>\n",
       "      <th>32736</th>\n",
       "      <td>1641.623774</td>\n",
       "      <td>1187.45612</td>\n",
       "      <td>0.00</td>\n",
       "      <td>0.17162</td>\n",
       "      <td>0.1429</td>\n",
       "      <td>38.229134</td>\n",
       "      <td>6.410619</td>\n",
       "    </tr>\n",
       "  </tbody>\n",
       "</table>\n",
       "</div>"
      ],
      "text/plain": [
       "                  a           b        c        d       e          f         g\n",
       "55947   1770.283712  1748.36860     0.00  0.11372  0.0693  37.059345  6.889322\n",
       "64126  14405.415234  5512.48912  2828.07  0.50969  0.8021   5.533757  3.432523\n",
       "54759   1099.849047   741.37836     0.00  0.09711  0.0868  35.539486  6.352950\n",
       "28624   1118.021129   740.27125  1037.19  0.17276  0.1571  28.046036  6.182082\n",
       "32736   1641.623774  1187.45612     0.00  0.17162  0.1429  38.229134  6.410619"
      ]
     },
     "execution_count": 10,
     "metadata": {},
     "output_type": "execute_result"
    }
   ],
   "source": [
    "data.columns = ['a','b','c','d', 'e','f','g']\n",
    "data.head()"
   ]
  },
  {
   "cell_type": "code",
   "execution_count": 11,
   "metadata": {},
   "outputs": [
    {
     "data": {
      "text/plain": [
       "55947    156.504783\n",
       "64126      5.996075\n",
       "54759    128.785129\n",
       "28624    121.511031\n",
       "32736     96.593221\n",
       "            ...    \n",
       "35992    305.350345\n",
       "51367    208.279392\n",
       "58717     87.791505\n",
       "56343     73.868619\n",
       "25906     56.816211\n",
       "Name: CO2_working_capacity [mL/g], Length: 3000, dtype: float64"
      ]
     },
     "execution_count": 11,
     "metadata": {},
     "output_type": "execute_result"
    }
   ],
   "source": [
    "target"
   ]
  },
  {
   "cell_type": "markdown",
   "metadata": {},
   "source": [
    "### Operator"
   ]
  },
  {
   "cell_type": "code",
   "execution_count": 12,
   "metadata": {},
   "outputs": [],
   "source": [
    "import operator                                                                                      \n",
    "                                                                                                     \n",
    "val1 = {\"feature_name\": \"a\"}                                                                \n",
    "val2 = {\"feature_name\": \"b\"}                                                                 \n",
    "val3 = {\"feature_name\": \"c\"}   \n",
    "val4 = {\"feature_name\": \"d\"}  \n",
    "val5 = {\"feature_name\": \"e\"}  \n",
    "val6 = {\"feature_name\": \"f\"} \n",
    "val7 = {\"feature_name\": \"g\"}\n",
    "\n",
    "node1 = {                                                                                            \n",
    "    \"func\": operator.add,                                                                            \n",
    "    \"children\": [val1, val2],                                                                        \n",
    "    \"format_str\": \"({} + {})\",                                                                       \n",
    "}                                                                                                    \n",
    "program = {                                                                                          \n",
    "    \"func\": operator.mul,                                                                            \n",
    "    \"children\": [node1, val3],                                                                       \n",
    "    \"format_str\": \"({} * {})\",                                                                       \n",
    "}"
   ]
  },
  {
   "cell_type": "code",
   "execution_count": 13,
   "metadata": {},
   "outputs": [],
   "source": [
    "def render_prog(node):                                                                               \n",
    "    if \"children\" not in node:                                                                       \n",
    "        return node[\"feature_name\"]                                                                  \n",
    "    return node[\"format_str\"].format(*[render_prog(c) for c in node[\"children\"]])  "
   ]
  },
  {
   "cell_type": "code",
   "execution_count": 14,
   "metadata": {},
   "outputs": [
    {
     "name": "stdout",
     "output_type": "stream",
     "text": [
      "((a + b) * c)\n"
     ]
    }
   ],
   "source": [
    "print(render_prog(program))"
   ]
  },
  {
   "cell_type": "code",
   "execution_count": 15,
   "metadata": {},
   "outputs": [],
   "source": [
    "def safe_div(a, b):                                                                                  \n",
    "    return a / b if b else a                                                                         \n",
    "\n",
    "operations = (                                                                                       \n",
    "    {\"func\": operator.add, \"arg_count\": 2, \"format_str\": \"({} + {})\"},                               \n",
    "    {\"func\": operator.sub, \"arg_count\": 2, \"format_str\": \"({} - {})\"},                               \n",
    "    {\"func\": operator.mul, \"arg_count\": 2, \"format_str\": \"({} * {})\"},                               \n",
    "    {\"func\": safe_div, \"arg_count\": 2, \"format_str\": \"({} / {})\"},                                   \n",
    "    {\"func\": operator.neg, \"arg_count\": 1, \"format_str\": \"-({})\"},    \n",
    ")"
   ]
  },
  {
   "cell_type": "code",
   "execution_count": 16,
   "metadata": {},
   "outputs": [],
   "source": [
    "def evaluate(node, row):                                                                             \n",
    "    if \"children\" not in node:                                                                       \n",
    "        return row[node[\"feature_name\"]]                                                             \n",
    "    return node[\"func\"](*[evaluate(c, row) for c in node[\"children\"]])  "
   ]
  },
  {
   "cell_type": "code",
   "execution_count": 17,
   "metadata": {},
   "outputs": [
    {
     "name": "stdout",
     "output_type": "stream",
     "text": [
      "0.0\n"
     ]
    }
   ],
   "source": [
    "print(evaluate(program, data.iloc[0]))"
   ]
  },
  {
   "cell_type": "markdown",
   "metadata": {},
   "source": [
    "### GP"
   ]
  },
  {
   "cell_type": "code",
   "execution_count": 18,
   "metadata": {},
   "outputs": [],
   "source": [
    "from random import randint, random, seed                                                             \n",
    "                                                                                                     \n",
    "seed(0)                                                                                              \n",
    "                                                                                                     \n",
    "def random_prog(depth):                                                                              \n",
    "    # favor adding function nodes near the tree root and \n",
    "    # leaf nodes as depth increases                           \n",
    "    if randint(0, 10) >= depth * 2:                                                                  \n",
    "        op = operations[randint(0, len(operations) - 1)]                                             \n",
    "        return {                                                                                     \n",
    "            \"func\": op[\"func\"],                                                                      \n",
    "            \"children\": [random_prog(depth + 1) for _ in range(op[\"arg_count\"])],                    \n",
    "            \"format_str\": op[\"format_str\"],                                                          \n",
    "        }                                                                                            \n",
    "    else:                                                                                            \n",
    "        return {\"feature_name\": data.columns[randint(0, data.shape[1] - 1)]}                         \n",
    "                                                                                                     \n",
    "                                                                                                     \n",
    "POP_SIZE = 300                                                                                      \n",
    "population = [random_prog(0) for _ in range(POP_SIZE)] "
   ]
  },
  {
   "cell_type": "code",
   "execution_count": 19,
   "metadata": {},
   "outputs": [
    {
     "name": "stdout",
     "output_type": "stream",
     "text": [
      "(c / ((((b - b) * e) * e) / (a - g)))\n"
     ]
    }
   ],
   "source": [
    "print(render_prog(population[0]))   "
   ]
  },
  {
   "cell_type": "code",
   "execution_count": 20,
   "metadata": {},
   "outputs": [],
   "source": [
    "def select_random_node(selected, parent, depth):                                                     \n",
    "    if \"children\" not in selected:                                                                   \n",
    "        return parent                                                                                \n",
    "    # favor nodes near the root                                                                      \n",
    "    if randint(0, 10) < 2*depth:                                                                     \n",
    "        return selected                                                                              \n",
    "    child_count = len(selected[\"children\"])                                                          \n",
    "    return select_random_node(\n",
    "        selected[\"children\"][randint(0, child_count - 1)], \n",
    "        selected, depth+1) "
   ]
  },
  {
   "cell_type": "code",
   "execution_count": 21,
   "metadata": {},
   "outputs": [
    {
     "name": "stdout",
     "output_type": "stream",
     "text": [
      "((a + b) * c)\n"
     ]
    }
   ],
   "source": [
    "print(render_prog(select_random_node(program, None, 0)))"
   ]
  },
  {
   "cell_type": "code",
   "execution_count": 22,
   "metadata": {},
   "outputs": [],
   "source": [
    "from copy import deepcopy\n",
    " \n",
    "def do_mutate(selected):\n",
    "    offspring = deepcopy(selected)\n",
    "    mutate_point = select_random_node(offspring, None, 0)\n",
    "    child_count = len(mutate_point[\"children\"])\n",
    "    mutate_point[\"children\"][randint(0, child_count - 1)] = random_prog(0)\n",
    "    return offspring"
   ]
  },
  {
   "cell_type": "code",
   "execution_count": 23,
   "metadata": {},
   "outputs": [
    {
     "name": "stdout",
     "output_type": "stream",
     "text": [
      "(((-(b) - (d / (g / d))) + b) * c)\n"
     ]
    }
   ],
   "source": [
    "print(render_prog(do_mutate(program)))"
   ]
  },
  {
   "cell_type": "code",
   "execution_count": 24,
   "metadata": {},
   "outputs": [],
   "source": [
    "def do_xover(selected1, selected2):                                                                  \n",
    "    offspring = deepcopy(selected1)                                                                  \n",
    "    xover_point1 = select_random_node(offspring, None, 0)                                            \n",
    "    xover_point2 = select_random_node(selected2, None, 0)                                            \n",
    "    child_count = len(xover_point1[\"children\"])                                                      \n",
    "    xover_point1[\"children\"][randint(0, child_count - 1)] = xover_point2                             \n",
    "    return offspring       "
   ]
  },
  {
   "cell_type": "code",
   "execution_count": 25,
   "metadata": {},
   "outputs": [
    {
     "name": "stdout",
     "output_type": "stream",
     "text": [
      "(c / (((-(c) * e) * e) / (a - g)))\n"
     ]
    }
   ],
   "source": [
    "print(render_prog(do_xover(population[0], population[1])))"
   ]
  },
  {
   "cell_type": "code",
   "execution_count": 26,
   "metadata": {},
   "outputs": [],
   "source": [
    "TOURNAMENT_SIZE = 3                                                                                  \n",
    "                        \n",
    "def get_random_parent(population, fitness):                                                          \n",
    "    # randomly select population members for the tournament                                          \n",
    "    tournament_members = [\n",
    "        randint(0, POP_SIZE - 1) for _ in range(TOURNAMENT_SIZE)]                  \n",
    "    # select tournament member with best fitness                                                     \n",
    "    member_fitness = [(fitness[i], population[i]) for i in tournament_members]                       \n",
    "    return min(member_fitness, key=lambda x: x[0])[1]"
   ]
  },
  {
   "cell_type": "code",
   "execution_count": 27,
   "metadata": {},
   "outputs": [],
   "source": [
    "XOVER_PCT = 0.7                                                                                                                                                            \n",
    "                                                                                                     \n",
    "def get_offspring(population, fitness):                                                              \n",
    "    parent1 = get_random_parent(population, fitness)                                                 \n",
    "    if random() > XOVER_PCT:                                                                         \n",
    "        parent2 = get_random_parent(population, fitness)                                             \n",
    "        return do_xover(parent1, parent2)                                                            \n",
    "    else:                                                                                            \n",
    "        return do_mutate(parent1) "
   ]
  },
  {
   "cell_type": "code",
   "execution_count": 28,
   "metadata": {},
   "outputs": [],
   "source": [
    "REG_STRENGTH = 0.5                                                                                   \n",
    "\n",
    "def node_count(x):                                                                                   \n",
    "    if \"children\" not in x:                                                                          \n",
    "        return 1                                                                                     \n",
    "    return sum([node_count(c) for c in x[\"children\"]])  \n",
    "\n",
    "def compute_fitness(program, prediction):                                                            \n",
    "    #mse = ((pd.Series(prediction) - target) ** 2).mean()                                             \n",
    "    #penalty = node_count(program) ** REG_STRENGTH                                                    \n",
    "    #return mse * penalty \n",
    "    return np.log(metrics.mean_absolute_error(target, prediction))"
   ]
  },
  {
   "cell_type": "code",
   "execution_count": 29,
   "metadata": {},
   "outputs": [
    {
     "name": "stdout",
     "output_type": "stream",
     "text": [
      "Generation: 0\n",
      "Best Score: 4.10\n",
      "Median score: 7.74\n",
      "Best program: -(((-(g) + d) * ((g - d) + g)))\n",
      "\n",
      "Generation: 1\n",
      "Best Score: 4.10\n",
      "Median score: 6.17\n",
      "Best program: -(((-(g) + d) * ((g - d) + g)))\n",
      "\n",
      "Generation: 2\n",
      "Best Score: 4.10\n",
      "Median score: 4.95\n",
      "Best program: -(((-(g) + d) * ((g - d) + g)))\n",
      "\n",
      "Generation: 3\n",
      "Best Score: 4.10\n",
      "Median score: 4.79\n",
      "Best program: -(((-(g) + d) * ((g - d) + g)))\n",
      "\n",
      "Generation: 4\n",
      "Best Score: 4.10\n",
      "Median score: 4.78\n",
      "Best program: -(((-(g) + d) * ((g - d) + g)))\n",
      "\n"
     ]
    }
   ],
   "source": [
    "MAX_GENERATIONS = 5                                                                                 \n",
    "                                                                                                     \n",
    "global_best = float(\"inf\")                                                                           \n",
    "for gen in range(MAX_GENERATIONS):                                                                   \n",
    "    fitness = []                                                                                     \n",
    "    for prog in population:                                                                          \n",
    "        prediction = [                                                                               \n",
    "            evaluate(prog, row) for _, row in data.iterrows()]                                       \n",
    "        score = compute_fitness(prog, prediction)                                                    \n",
    "        fitness.append(score)                                                                        \n",
    "        if score < global_best:                                                                      \n",
    "            global_best = score                                                                      \n",
    "            best_pred = prediction                                                                   \n",
    "            best_prog = prog                                                                         \n",
    "    print(                                                                                           \n",
    "        \"Generation: %d\\nBest Score: %.2f\\nMedian score: %.2f\\nBest program: %s\\n\"                   \n",
    "        % (                                                                                          \n",
    "            gen,                                                                                     \n",
    "            global_best,                                                                             \n",
    "            pd.Series(fitness).median(),                                                             \n",
    "            render_prog(best_prog),                                                                  \n",
    "        )                                                                                            \n",
    "    )                                                                                                \n",
    "    population = [                                                                                   \n",
    "        get_offspring(population, fitness)                                                           \n",
    "        for _ in range(POP_SIZE)]                                                                                                             \n"
   ]
  },
  {
   "cell_type": "code",
   "execution_count": 30,
   "metadata": {},
   "outputs": [
    {
     "name": "stdout",
     "output_type": "stream",
     "text": [
      "Best score: 4.097968\n",
      "Best program: -(((-(g) + d) * ((g - d) + g)))\n"
     ]
    }
   ],
   "source": [
    "print(\"Best score: %f\" % global_best)                                                                \n",
    "print(\"Best program: %s\" % render_prog(best_prog))                                                   \n",
    "output = {\"target\": target, \"pred\": best_pred}                                                       \n",
    "# pd.DataFrame(output).to_csv(\"best_pred.csv\")  "
   ]
  },
  {
   "cell_type": "code",
   "execution_count": 31,
   "metadata": {},
   "outputs": [
    {
     "data": {
      "text/plain": [
       "78.92095405238202"
      ]
     },
     "execution_count": 31,
     "metadata": {},
     "output_type": "execute_result"
    }
   ],
   "source": [
    "evaluate(best_prog, data.iloc[4])"
   ]
  },
  {
   "cell_type": "code",
   "execution_count": 32,
   "metadata": {},
   "outputs": [
    {
     "data": {
      "text/plain": [
       "55947    156.504783\n",
       "64126      5.996075\n",
       "54759    128.785129\n",
       "28624    121.511031\n",
       "32736     96.593221\n",
       "            ...    \n",
       "35992    305.350345\n",
       "51367    208.279392\n",
       "58717     87.791505\n",
       "56343     73.868619\n",
       "25906     56.816211\n",
       "Name: CO2_working_capacity [mL/g], Length: 3000, dtype: float64"
      ]
     },
     "execution_count": 32,
     "metadata": {},
     "output_type": "execute_result"
    }
   ],
   "source": [
    "target"
   ]
  },
  {
   "cell_type": "code",
   "execution_count": null,
   "metadata": {},
   "outputs": [],
   "source": []
  }
 ],
 "metadata": {
  "kernelspec": {
   "display_name": "Python 3",
   "language": "python",
   "name": "python3"
  },
  "language_info": {
   "codemirror_mode": {
    "name": "ipython",
    "version": 3
   },
   "file_extension": ".py",
   "mimetype": "text/x-python",
   "name": "python",
   "nbconvert_exporter": "python",
   "pygments_lexer": "ipython3",
   "version": "3.8.8"
  }
 },
 "nbformat": 4,
 "nbformat_minor": 4
}
